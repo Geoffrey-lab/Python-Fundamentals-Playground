{
 "cells": [
  {
   "cell_type": "markdown",
   "id": "f662d169",
   "metadata": {},
   "source": [
    "# Sets"
   ]
  },
  {
   "cell_type": "markdown",
   "id": "e6d60bbf",
   "metadata": {},
   "source": [
    "## Examples"
   ]
  },
  {
   "cell_type": "markdown",
   "id": "bb83e75d",
   "metadata": {},
   "source": [
    "### 1. Create a set"
   ]
  },
  {
   "cell_type": "code",
   "execution_count": 1,
   "id": "30f39494",
   "metadata": {},
   "outputs": [
    {
     "name": "stdout",
     "output_type": "stream",
     "text": [
      "{'Rabbit', 'Elephant', 'Bear', 'Fox', 'Giraffe'}\n"
     ]
    }
   ],
   "source": [
    "# Create a set, defined within curly brackets\n",
    "eats_plants = {\"Giraffe\", \"Elephant\", \"Bear\", \"Rabbit\", \"Fox\"}\n",
    "print(eats_plants)"
   ]
  },
  {
   "cell_type": "code",
   "execution_count": 2,
   "id": "9720fed2",
   "metadata": {},
   "outputs": [
    {
     "name": "stdout",
     "output_type": "stream",
     "text": [
      "{'Bear', 'Hawk', 'Tiger', 'Lion', 'Fox'}\n"
     ]
    }
   ],
   "source": [
    "# Create a set from a list using the set constructor\n",
    "eats_meat = set([\"Lion\", \"Tiger\", \"Bear\", \"Hawk\", \"Fox\", \"Lion\"])\n",
    "print(eats_meat)"
   ]
  },
  {
   "cell_type": "markdown",
   "id": "c872c671",
   "metadata": {},
   "source": [
    "### 2. Set type"
   ]
  },
  {
   "cell_type": "code",
   "execution_count": 3,
   "id": "29f9fad0",
   "metadata": {},
   "outputs": [
    {
     "data": {
      "text/plain": [
       "set"
      ]
     },
     "execution_count": 3,
     "metadata": {},
     "output_type": "execute_result"
    }
   ],
   "source": [
    "# Check the type of the variable eats_plants\n",
    "type(eats_plants)"
   ]
  },
  {
   "cell_type": "markdown",
   "id": "74fa7a08",
   "metadata": {},
   "source": [
    "### 3. Check membership in a set"
   ]
  },
  {
   "cell_type": "code",
   "execution_count": 4,
   "id": "aec1439f",
   "metadata": {},
   "outputs": [
    {
     "data": {
      "text/plain": [
       "True"
      ]
     },
     "execution_count": 4,
     "metadata": {},
     "output_type": "execute_result"
    }
   ],
   "source": [
    "# Checking if the element \"Lion\" is in the set eats_meat\n",
    "\"Lion\" in eats_meat"
   ]
  },
  {
   "cell_type": "code",
   "execution_count": 5,
   "id": "9da39f24",
   "metadata": {},
   "outputs": [
    {
     "data": {
      "text/plain": [
       "False"
      ]
     },
     "execution_count": 5,
     "metadata": {},
     "output_type": "execute_result"
    }
   ],
   "source": [
    "# Checking if the element \"Elephant\" is in set eats_meat\n",
    "\"Elephant\" in eats_meat"
   ]
  },
  {
   "cell_type": "markdown",
   "id": "8f459e1c",
   "metadata": {},
   "source": [
    "### 4. Duplicates "
   ]
  },
  {
   "cell_type": "code",
   "execution_count": 6,
   "id": "27648a32",
   "metadata": {},
   "outputs": [
    {
     "name": "stdout",
     "output_type": "stream",
     "text": [
      "{'Bear', 'Hawk', 'Tiger', 'Fox', 'Lion'}\n"
     ]
    }
   ],
   "source": [
    "# Set containing duplicates\n",
    "eats_meat = {\"Lion\", \"Tiger\", \"Bear\", \"Hawk\", \"Fox\", \"Lion\"}\n",
    "print(eats_meat)"
   ]
  },
  {
   "cell_type": "markdown",
   "id": "0c8f5db0",
   "metadata": {},
   "source": [
    "### 5. Modification"
   ]
  },
  {
   "cell_type": "markdown",
   "id": "a6356123",
   "metadata": {},
   "source": [
    "#### a) Adding elements:"
   ]
  },
  {
   "cell_type": "code",
   "execution_count": 7,
   "id": "af21fd73",
   "metadata": {},
   "outputs": [
    {
     "name": "stdout",
     "output_type": "stream",
     "text": [
      "{'Rabbit', 'Elephant', 'Bear', 'Cow', 'Fox', 'Giraffe'}\n"
     ]
    }
   ],
   "source": [
    "# Add the element \"Cow\" to the set eats_plants\n",
    "eats_plants.add(\"Cow\")\n",
    "print(eats_plants)"
   ]
  },
  {
   "cell_type": "code",
   "execution_count": 8,
   "id": "9f3df4b9",
   "metadata": {},
   "outputs": [
    {
     "name": "stdout",
     "output_type": "stream",
     "text": [
      "{'Cheetah', 'Leopard', 'Bear', 'Hawk', 'Tiger', 'Fox', 'Lion'}\n"
     ]
    }
   ],
   "source": [
    "# Add multiple elements from another set\n",
    "eats_meat.update({\"Leopard\", \"Cheetah\"})\n",
    "print(eats_meat)"
   ]
  },
  {
   "cell_type": "markdown",
   "id": "976a9ad8",
   "metadata": {},
   "source": [
    "#### b) Removing elements:"
   ]
  },
  {
   "cell_type": "code",
   "execution_count": 9,
   "id": "5acca7bf",
   "metadata": {},
   "outputs": [
    {
     "name": "stdout",
     "output_type": "stream",
     "text": [
      "{'Elephant', 'Bear', 'Cow', 'Fox', 'Giraffe'}\n"
     ]
    }
   ],
   "source": [
    "# Remove the element \"Rabbit\" from set eats_plants\n",
    "eats_plants.remove(\"Rabbit\")\n",
    "print(eats_plants)"
   ]
  },
  {
   "cell_type": "code",
   "execution_count": 10,
   "id": "3bcd11df",
   "metadata": {},
   "outputs": [
    {
     "name": "stdout",
     "output_type": "stream",
     "text": [
      "{'Elephant', 'Bear', 'Cow', 'Fox', 'Giraffe'}\n"
     ]
    }
   ],
   "source": [
    "# Remove the element \"Deer\" from set eats_plants\n",
    "eats_plants.discard(\"Deer\")\n",
    "print(eats_plants)"
   ]
  },
  {
   "cell_type": "markdown",
   "id": "0d003289",
   "metadata": {},
   "source": [
    "### 6. Set operations"
   ]
  },
  {
   "cell_type": "markdown",
   "id": "bfc77ddc",
   "metadata": {},
   "source": [
    "#### a) Union – `union()`:"
   ]
  },
  {
   "cell_type": "code",
   "execution_count": 11,
   "id": "6f76240a",
   "metadata": {},
   "outputs": [
    {
     "name": "stdout",
     "output_type": "stream",
     "text": [
      "{'Cheetah', 'Bear', 'Hawk', 'Tiger', 'Lion', 'Leopard', 'Elephant', 'Cow', 'Fox', 'Giraffe'}\n"
     ]
    }
   ],
   "source": [
    "# Create a new set with all the animals from the eats_meat and eats_plants sets\n",
    "all_animals = eats_meat.union(eats_plants)\n",
    "print(all_animals)"
   ]
  },
  {
   "cell_type": "markdown",
   "id": "85ee2ad9",
   "metadata": {},
   "source": [
    "#### b) Intersection – `intersection()`:"
   ]
  },
  {
   "cell_type": "code",
   "execution_count": 12,
   "id": "33945f82",
   "metadata": {},
   "outputs": [
    {
     "name": "stdout",
     "output_type": "stream",
     "text": [
      "{'Bear', 'Fox'}\n"
     ]
    }
   ],
   "source": [
    "# Create a new set with animals that are common in both eats_meat and eats_plants sets\n",
    "omnivores = eats_meat.intersection(eats_plants)\n",
    "print(omnivores)"
   ]
  },
  {
   "cell_type": "markdown",
   "id": "8efcbadf",
   "metadata": {},
   "source": [
    "#### c) Difference – `difference()`:"
   ]
  },
  {
   "cell_type": "code",
   "execution_count": 13,
   "id": "fae37e8d",
   "metadata": {},
   "outputs": [
    {
     "name": "stdout",
     "output_type": "stream",
     "text": [
      "{'Cheetah', 'Hawk', 'Tiger', 'Lion', 'Leopard'}\n"
     ]
    }
   ],
   "source": [
    "# Create a new set with animals that are only in the eats_meat set\n",
    "carnivore_only = eats_meat.difference(eats_plants)\n",
    "print(carnivore_only)"
   ]
  },
  {
   "cell_type": "markdown",
   "id": "585000f0",
   "metadata": {},
   "source": [
    "#### d) Subset – `issubset()`:"
   ]
  },
  {
   "cell_type": "code",
   "execution_count": 14,
   "id": "54f8ae82",
   "metadata": {},
   "outputs": [
    {
     "name": "stdout",
     "output_type": "stream",
     "text": [
      "True\n"
     ]
    }
   ],
   "source": [
    "# Check if eats_plants is a subset of all_animals\n",
    "eats_plants_subset = eats_plants.issubset(all_animals)\n",
    "print(eats_plants_subset)"
   ]
  },
  {
   "cell_type": "markdown",
   "id": "e2897b8a",
   "metadata": {},
   "source": [
    "### 7. Other set methods"
   ]
  },
  {
   "cell_type": "markdown",
   "id": "9e42975e",
   "metadata": {},
   "source": [
    "#### a) len( )"
   ]
  },
  {
   "cell_type": "code",
   "execution_count": 15,
   "id": "b6ea02a9",
   "metadata": {},
   "outputs": [
    {
     "name": "stdout",
     "output_type": "stream",
     "text": [
      "No. of animals that are exclusively carnivorous: 5\n"
     ]
    }
   ],
   "source": [
    "# Return the number of elements in carnivore_only\n",
    "Length_of_set = len(carnivore_only)\n",
    "print(f\"No. of animals that are exclusively carnivorous: {Length_of_set}\")"
   ]
  },
  {
   "cell_type": "markdown",
   "id": "8f031006",
   "metadata": {},
   "source": [
    "#### b) clear() "
   ]
  },
  {
   "cell_type": "code",
   "execution_count": 16,
   "id": "78ee5fd5",
   "metadata": {},
   "outputs": [
    {
     "name": "stdout",
     "output_type": "stream",
     "text": [
      "set()\n"
     ]
    }
   ],
   "source": [
    "# Remove all elements from set all_animals\n",
    "all_animals.clear()\n",
    "print(all_animals)"
   ]
  }
 ],
 "metadata": {
  "kernelspec": {
   "display_name": "Python 3 (ipykernel)",
   "language": "python",
   "name": "python3"
  },
  "language_info": {
   "codemirror_mode": {
    "name": "ipython",
    "version": 3
   },
   "file_extension": ".py",
   "mimetype": "text/x-python",
   "name": "python",
   "nbconvert_exporter": "python",
   "pygments_lexer": "ipython3",
   "version": "3.11.5"
  }
 },
 "nbformat": 4,
 "nbformat_minor": 5
}
