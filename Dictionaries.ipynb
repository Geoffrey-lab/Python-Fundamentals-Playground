{
 "cells": [
  {
   "cell_type": "markdown",
   "id": "f662d169",
   "metadata": {},
   "source": [
    "# Dictionaries"
   ]
  },
  {
   "cell_type": "markdown",
   "id": "704eca69",
   "metadata": {},
   "source": [
    "\n",
    "#### 1. Creating a very basic dictionary"
   ]
  },
  {
   "cell_type": "code",
   "execution_count": 1,
   "id": "f4e8d64b",
   "metadata": {
    "vscode": {
     "languageId": "plaintext"
    }
   },
   "outputs": [],
   "source": [
    "our_first_dictionary = {}"
   ]
  },
  {
   "cell_type": "code",
   "execution_count": 2,
   "id": "dc4e7058",
   "metadata": {},
   "outputs": [
    {
     "data": {
      "text/plain": [
       "dict"
      ]
     },
     "execution_count": 2,
     "metadata": {},
     "output_type": "execute_result"
    }
   ],
   "source": [
    "type(our_first_dictionary)"
   ]
  },
  {
   "cell_type": "code",
   "execution_count": 3,
   "id": "0ee1e825",
   "metadata": {},
   "outputs": [],
   "source": [
    "our_first_dictionary['first_key']='first_value'"
   ]
  },
  {
   "cell_type": "code",
   "execution_count": 4,
   "id": "72b28bb9",
   "metadata": {},
   "outputs": [
    {
     "data": {
      "text/plain": [
       "{'first_key': 'first_value'}"
      ]
     },
     "execution_count": 4,
     "metadata": {},
     "output_type": "execute_result"
    }
   ],
   "source": [
    "our_first_dictionary"
   ]
  },
  {
   "cell_type": "code",
   "execution_count": 5,
   "id": "ec921305",
   "metadata": {},
   "outputs": [
    {
     "data": {
      "text/plain": [
       "'first_value'"
      ]
     },
     "execution_count": 5,
     "metadata": {},
     "output_type": "execute_result"
    }
   ],
   "source": [
    "our_first_dictionary['first_key']"
   ]
  },
  {
   "cell_type": "code",
   "execution_count": 6,
   "id": "76ee209f",
   "metadata": {},
   "outputs": [
    {
     "data": {
      "text/plain": [
       "{'first_key': 'second_value', 'extra_key': 'extra_value'}"
      ]
     },
     "execution_count": 6,
     "metadata": {},
     "output_type": "execute_result"
    }
   ],
   "source": [
    "# accidental duplicate keys in dictionary definition\n",
    "duplicate_key_dict = {'first_key': 'first_value', 'first_key': 'second_value', 'extra_key': 'extra_value'}\n",
    "duplicate_key_dict"
   ]
  },
  {
   "cell_type": "code",
   "execution_count": 7,
   "id": "e8804a2d",
   "metadata": {},
   "outputs": [
    {
     "name": "stdout",
     "output_type": "stream",
     "text": [
      "{'first_key': 'first_value'}\n",
      "{'first_key': 100}\n"
     ]
    }
   ],
   "source": [
    "print(our_first_dictionary)\n",
    "\n",
    "# changing a value for an existing key again\n",
    "our_first_dictionary['first_key'] = 100\n",
    "print(our_first_dictionary)\n"
   ]
  },
  {
   "cell_type": "markdown",
   "id": "185890c6",
   "metadata": {},
   "source": [
    "#### 3. Adding key-value pairs to the dictionary"
   ]
  },
  {
   "cell_type": "code",
   "execution_count": 8,
   "id": "144c0850",
   "metadata": {},
   "outputs": [
    {
     "data": {
      "text/plain": [
       "{'first_key': 100,\n",
       " 'extra_key': 'extra_value',\n",
       " 'another_extra_key': 'another_value'}"
      ]
     },
     "execution_count": 8,
     "metadata": {},
     "output_type": "execute_result"
    }
   ],
   "source": [
    "# adding two new key-value pairs to an existing dictionary\n",
    "an_extra_key_value_dict = {'extra_key':'extra_value', 'another_extra_key':'another_value'}\n",
    "our_first_dictionary.update(an_extra_key_value_dict)\n",
    "our_first_dictionary"
   ]
  },
  {
   "cell_type": "markdown",
   "id": "750ccf27",
   "metadata": {},
   "source": [
    "#### 4. Removing key-value pair from dictionary"
   ]
  },
  {
   "cell_type": "code",
   "execution_count": 9,
   "id": "dab5c70c",
   "metadata": {},
   "outputs": [
    {
     "name": "stdout",
     "output_type": "stream",
     "text": [
      "Original our_first_dictionary:  {'first_key': 100, 'extra_key': 'extra_value', 'another_extra_key': 'another_value'}\n",
      "Updated our_first_dictionary:  {'first_key': 100, 'extra_key': 'extra_value'}\n"
     ]
    }
   ],
   "source": [
    "print(\"Original our_first_dictionary: \", our_first_dictionary)\n",
    "\n",
    "# using del keyword to remove the key-value pair\n",
    "del our_first_dictionary[\"another_extra_key\"]\n",
    "print(\"Updated our_first_dictionary: \", our_first_dictionary)"
   ]
  },
  {
   "cell_type": "markdown",
   "id": "a031581e",
   "metadata": {},
   "source": [
    "#### 5. Using the `dict()` function to create a dictionary"
   ]
  },
  {
   "cell_type": "code",
   "execution_count": 10,
   "id": "4bd2b9ca",
   "metadata": {},
   "outputs": [
    {
     "data": {
      "text/plain": [
       "{'first_key': 'first_value', 'extra_key': 'extra_value'}"
      ]
     },
     "execution_count": 10,
     "metadata": {},
     "output_type": "execute_result"
    }
   ],
   "source": [
    "# recreating our_first_dictionary with dict()\n",
    "\n",
    "our_first_dictionary = dict(first_key='first_value', extra_key='extra_value')\n",
    "our_first_dictionary\n"
   ]
  },
  {
   "cell_type": "markdown",
   "id": "155d67cf",
   "metadata": {},
   "source": [
    "#### 6. Printing the key and value in a dictionary"
   ]
  },
  {
   "cell_type": "code",
   "execution_count": 11,
   "id": "acbf14e1",
   "metadata": {},
   "outputs": [
    {
     "name": "stdout",
     "output_type": "stream",
     "text": [
      "{'first_key': 'first_value', 'extra_key': 'extra_value'}\n",
      "first_key: first_value\n"
     ]
    }
   ],
   "source": [
    "print(our_first_dictionary)\n",
    "\n",
    "# using an f-string\n",
    "print(f\"first_key: {our_first_dictionary['first_key']}\")\n"
   ]
  },
  {
   "cell_type": "markdown",
   "id": "882d6747",
   "metadata": {},
   "source": [
    "<br> \n",
    "\n",
    "### Example 2"
   ]
  },
  {
   "cell_type": "markdown",
   "id": "c1a00bab",
   "metadata": {},
   "source": [
    "#### 1. Creating a nested dictionary"
   ]
  },
  {
   "cell_type": "code",
   "execution_count": 12,
   "id": "c63b34e3",
   "metadata": {
    "vscode": {
     "languageId": "plaintext"
    }
   },
   "outputs": [],
   "source": [
    "# creating a nested dictionary\n",
    "fynbos_families = { 'Erica': {'Cape Floristic Region': 670, 'Worldwide': 4500},\n",
    "                         'Protea': {'Cape Floristic Region': 330, 'Worldwide': 1350},\n",
    "                         'Restio':{'Cape Floristic Region': 320, 'Worldwide': 400},\n",
    "                         'Citrus':{'Cape Floristic Region': 273, 'Worldwide': 1650},\n",
    "                         'Phylica':{'Cape Floristic Region': 137, 'Worldwide': 900}\n",
    "                        }"
   ]
  },
  {
   "cell_type": "code",
   "execution_count": 13,
   "id": "6b8643d7",
   "metadata": {},
   "outputs": [
    {
     "data": {
      "text/plain": [
       "dict"
      ]
     },
     "execution_count": 13,
     "metadata": {},
     "output_type": "execute_result"
    }
   ],
   "source": [
    "type(fynbos_families)"
   ]
  },
  {
   "cell_type": "code",
   "execution_count": 14,
   "id": "df726ecf",
   "metadata": {},
   "outputs": [
    {
     "data": {
      "text/plain": [
       "dict"
      ]
     },
     "execution_count": 14,
     "metadata": {},
     "output_type": "execute_result"
    }
   ],
   "source": [
    "type(fynbos_families['Erica'])"
   ]
  },
  {
   "cell_type": "markdown",
   "id": "b1eac388",
   "metadata": {},
   "source": [
    "#### 2. Accessing values in a nested dictionary"
   ]
  },
  {
   "cell_type": "code",
   "execution_count": 15,
   "id": "efd1a974",
   "metadata": {},
   "outputs": [
    {
     "data": {
      "text/plain": [
       "{'Cape Floristic Region': 670, 'Worldwide': 4500}"
      ]
     },
     "execution_count": 15,
     "metadata": {},
     "output_type": "execute_result"
    }
   ],
   "source": [
    "# accessing the value of the 'Erica' key – the result is a dictionary\n",
    "fynbos_families['Erica']"
   ]
  },
  {
   "cell_type": "code",
   "execution_count": 16,
   "id": "0922fef6",
   "metadata": {},
   "outputs": [
    {
     "data": {
      "text/plain": [
       "330"
      ]
     },
     "execution_count": 16,
     "metadata": {},
     "output_type": "execute_result"
    }
   ],
   "source": [
    "# find the number of species in the Cape Floristic Region for the Protea family\n",
    "fynbos_families['Protea']['Cape Floristic Region']"
   ]
  },
  {
   "cell_type": "markdown",
   "id": "52b06466",
   "metadata": {},
   "source": [
    "#### 3. Keys, values, and items objects"
   ]
  },
  {
   "cell_type": "code",
   "execution_count": 17,
   "id": "dbd9ea08",
   "metadata": {},
   "outputs": [
    {
     "data": {
      "text/plain": [
       "{'Cape Floristic Region': 330, 'Worldwide': 1350}"
      ]
     },
     "execution_count": 17,
     "metadata": {},
     "output_type": "execute_result"
    }
   ],
   "source": [
    "protea_species = fynbos_families['Protea']\n",
    "protea_species"
   ]
  },
  {
   "cell_type": "code",
   "execution_count": 18,
   "id": "6ec8de60",
   "metadata": {},
   "outputs": [
    {
     "data": {
      "text/plain": [
       "['Cape Floristic Region', 'Worldwide']"
      ]
     },
     "execution_count": 18,
     "metadata": {},
     "output_type": "execute_result"
    }
   ],
   "source": [
    "key_list = list(protea_species.keys())\n",
    "key_list"
   ]
  },
  {
   "cell_type": "code",
   "execution_count": 19,
   "id": "55d93db4",
   "metadata": {},
   "outputs": [
    {
     "data": {
      "text/plain": [
       "[330, 1350]"
      ]
     },
     "execution_count": 19,
     "metadata": {},
     "output_type": "execute_result"
    }
   ],
   "source": [
    "value_list = list(protea_species.values())\n",
    "value_list"
   ]
  },
  {
   "cell_type": "code",
   "execution_count": 20,
   "id": "bad77a52",
   "metadata": {},
   "outputs": [
    {
     "data": {
      "text/plain": [
       "[('Cape Floristic Region', 330), ('Worldwide', 1350)]"
      ]
     },
     "execution_count": 20,
     "metadata": {},
     "output_type": "execute_result"
    }
   ],
   "source": [
    "items_list = list(protea_species.items())\n",
    "items_list"
   ]
  }
 ],
 "metadata": {
  "kernelspec": {
   "display_name": "Python 3 (ipykernel)",
   "language": "python",
   "name": "python3"
  },
  "language_info": {
   "codemirror_mode": {
    "name": "ipython",
    "version": 3
   },
   "file_extension": ".py",
   "mimetype": "text/x-python",
   "name": "python",
   "nbconvert_exporter": "python",
   "pygments_lexer": "ipython3",
   "version": "3.11.5"
  }
 },
 "nbformat": 4,
 "nbformat_minor": 5
}
